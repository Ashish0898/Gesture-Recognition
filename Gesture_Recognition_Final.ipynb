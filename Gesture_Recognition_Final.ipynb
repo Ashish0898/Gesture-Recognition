{
  "cells": [
    {
      "cell_type": "markdown",
      "metadata": {
        "id": "view-in-github",
        "colab_type": "text"
      },
      "source": [
        "<a href=\"https://colab.research.google.com/github/Ashish0898/Gesture-Recognition/blob/main/Gesture_Recognition_Final.ipynb\" target=\"_parent\"><img src=\"https://colab.research.google.com/assets/colab-badge.svg\" alt=\"Open In Colab\"/></a>"
      ]
    },
    {
      "cell_type": "markdown",
      "metadata": {
        "id": "PElwadh5IieS"
      },
      "source": [
        "# Gesture Recognition\n",
        "In this group project, you are going to build a 3D Conv model that will be able to predict the 5 gestures correctly. Please import the following libraries to get started. Once you have completed the code you can download the notebook for making a submission."
      ]
    },
    {
      "cell_type": "code",
      "execution_count": null,
      "metadata": {
        "id": "Tcse-tBJIiec"
      },
      "outputs": [],
      "source": [
        "import numpy as np\n",
        "import os\n",
        "from imageio import imread\n",
        "from skimage.transform import resize\n",
        "import datetime\n",
        "import os\n",
        "import matplotlib.pyplot as plt\n",
        "from keras.models import Sequential, Model,Functional\n",
        "from keras.layers import Dense, GRU, Flatten, TimeDistributed, Flatten, BatchNormalization, Activation, Dropout, GlobalAveragePooling2D, ConvLSTM2D\n",
        "from keras.layers.convolutional import Conv3D, MaxPooling3D, Conv2D, MaxPooling2D\n",
        "from keras.callbacks import ModelCheckpoint, ReduceLROnPlateau\n",
        "from keras.layers import LSTM\n",
        "from keras import optimizers\n",
        "from tensorflow.keras.callbacks import ModelCheckpoint, ReduceLROnPlateau\n",
        "from tensorflow.keras import optimizers\n"
      ]
    },
    {
      "cell_type": "markdown",
      "metadata": {
        "id": "Ds84SjX7Iiej"
      },
      "source": [
        "We set the random seed so that the results don't vary drastically."
      ]
    },
    {
      "cell_type": "code",
      "execution_count": null,
      "metadata": {
        "id": "2TjjQwnxIiel"
      },
      "outputs": [],
      "source": [
        "np.random.seed(30)\n",
        "import random as rn\n",
        "rn.seed(30)\n",
        "from tensorflow import keras\n",
        "import tensorflow as tf\n",
        "tf.random.set_seed(30)"
      ]
    },
    {
      "cell_type": "markdown",
      "metadata": {
        "id": "0ohunPn2Iien"
      },
      "source": [
        "In this block, you read the folder names for training and validation. You also set the `batch_size` here. Note that you set the batch size in such a way that you are able to use the GPU in full capacity. You keep increasing the batch size until the machine throws an error."
      ]
    },
    {
      "cell_type": "markdown",
      "metadata": {
        "id": "_953sqoQIieo"
      },
      "source": [
        "**data path: /home/datasets/Project_data**"
      ]
    },
    {
      "cell_type": "code",
      "execution_count": null,
      "metadata": {
        "id": "JPHEYuxSIiep"
      },
      "outputs": [],
      "source": [
        "train_doc = np.random.permutation(open('/home/datasets/Project_data/train.csv').readlines())\n",
        "val_doc = np.random.permutation(open('/home/datasets/Project_data/val.csv').readlines())\n",
        "batch_size =20 #experiment with the batch size\n",
        "sequence_id = range(7,26,2)\n",
        "dim_x, dim_y = 100, 100"
      ]
    },
    {
      "cell_type": "markdown",
      "metadata": {
        "id": "GTSDxe88Iieq"
      },
      "source": [
        "## Generator\n",
        "This is one of the most important part of the code. The overall structure of the generator has been given. In the generator, you are going to preprocess the images as you have images of 2 different dimensions as well as create a batch of video frames. You have to experiment with `img_idx`, `y`,`z` and normalization such that you get high accuracy."
      ]
    },
    {
      "cell_type": "markdown",
      "metadata": {
        "id": "b9qaKcvDIier"
      },
      "source": [
        "Note here that a video is represented above in the generator as (number of images, height, width, number of channels). Take this into consideration while creating the model architecture."
      ]
    },
    {
      "cell_type": "code",
      "execution_count": null,
      "metadata": {
        "id": "j-smy1oeIies"
      },
      "outputs": [],
      "source": [
        "# generator with augmentation for train data\n",
        "def generator(source_path, folder_list, batch_size):\n",
        "    # print('\\nSource path = ', source_path, '; batch size =', batch_size)\n",
        "    img_idx = sequence_id #create a list of image numbers you want to use for a particular video\n",
        "    x = len(img_idx)\n",
        "    y, z = dim_x, dim_y\n",
        "    while True:\n",
        "      t = np.random.permutation(folder_list)\n",
        "      if (len(t)%batch_size) == 0:\n",
        "            num_batches = int(len(t)/batch_size)\n",
        "      else:\n",
        "          num_batches = len(t)//batch_size + 1\n",
        "            \n",
        "      for batch in range(num_batches): # we iterate over the number of batches\n",
        "        batch_data = np.zeros((batch_size,x,y,z,3)) # x is the number of images you use for each video, (y,z) is the final size of the input images and 3 is the number of channels RGB\n",
        "        batch_labels = np.zeros((batch_size,5)) # batch_labels is the one hot representation of the output\n",
        "        for folder in range(batch_size): # iterate over the batch_size\n",
        "            \n",
        "            #handling remaining datapoints\n",
        "            folder_idx = folder + (batch*batch_size)\n",
        "            if folder_idx >= len(t):\n",
        "                break\n",
        "            folder_str = t[folder_idx]\n",
        "            imgs = os.listdir(source_path+'/'+ folder_str.split(';')[0]) # read all the images in the folder\n",
        "            # randomly enabling augmentation and augmentation type\n",
        "            \n",
        "            for idx,item in enumerate(img_idx): #  Iterate iver the frames/images of a folder to read them in\n",
        "                image = imread(source_path+'/'+ folder_str.strip().split(';')[0]+'/'+imgs[item]).astype(np.float32)\n",
        "                \n",
        "                #crop the images and resize them. Note that the images are of 2 different shape \n",
        "                #and the conv3D will throw error if the inputs in a batch have different shapes\n",
        "                # making the rectangle images into square by cropping sides\n",
        "                # so the aspect ration can be mantained while resizing.\n",
        "                if image.shape[1] > image.shape[0]:\n",
        "                    diff_px = image.shape[1] - image.shape[0]\n",
        "                    crop_start = diff_px//2\n",
        "                    crop_end = crop_start + image.shape[0]\n",
        "                    image = image[:, crop_start:crop_end]\n",
        "                elif image.shape[0] > image.shape[1]:\n",
        "                    diff_px = image.shape[0] - image.shape[1]\n",
        "                    crop_start = diff_px//2\n",
        "                    crop_end = crop_start + image.shape[1]\n",
        "                    image = image[:, crop_start:crop_end]\n",
        "\n",
        "                resized_im = resize(image, (y,z))\n",
        "\n",
        "                batch_data[folder,idx,:,:,0] = resized_im[:,:,0]/255 #normalise and feed in the image\n",
        "                batch_data[folder,idx,:,:,1] = resized_im[:,:,1]/255 #normalise and feed in the image\n",
        "                batch_data[folder,idx,:,:,2] = resized_im[:,:,2]/255 #normalise and feed in the image\n",
        "\n",
        "            batch_labels[folder, int(folder_str.strip().split(';')[2])] = 1\n",
        "        yield batch_data, batch_labels #you yield the batch_data and the batch_labels, remember what does yield do\n"
      ]
    },
    {
      "cell_type": "code",
      "execution_count": null,
      "metadata": {
        "id": "iFe4XcN9Iiew",
        "outputId": "5b0c632d-986e-424d-ed87-9fa6572cdb8a"
      },
      "outputs": [
        {
          "name": "stdout",
          "output_type": "stream",
          "text": [
            "# training sequences = 663\n",
            "# validation sequences = 100\n",
            "# epochs = 25\n"
          ]
        }
      ],
      "source": [
        "curr_dt_time = datetime.datetime.now()\n",
        "train_path = '/home/datasets/Project_data/train'\n",
        "val_path = '/home/datasets/Project_data/val'\n",
        "num_train_sequences = len(train_doc)\n",
        "print('# training sequences =', num_train_sequences)\n",
        "num_val_sequences = len(val_doc)\n",
        "print('# validation sequences =', num_val_sequences)\n",
        "num_epochs = 25 # choose the number of epochs\n",
        "print ('# epochs =', num_epochs)\n",
        "Input_shape=(len(sequence_id),dim_x, dim_y, 3)"
      ]
    },
    {
      "cell_type": "markdown",
      "metadata": {
        "id": "FcDhu8sCIie0"
      },
      "source": [
        "## Model\n",
        "Here you make the model using different functionalities that Keras provides. Remember to use `Conv3D` and `MaxPooling3D` and not `Conv2D` and `Maxpooling2D` for a 3D convolution model. You would want to use `TimeDistributed` while building a Conv2D + RNN model. Also remember that the last layer is the softmax. Design the network in such a way that the model is able to give good accuracy on the least number of parameters so that it can fit in the memory of the webcam."
      ]
    },
    {
      "cell_type": "markdown",
      "metadata": {
        "id": "Wv9O0RcbIie1"
      },
      "source": [
        "#### Conv3D (Experiment-1 & 2)"
      ]
    },
    {
      "cell_type": "code",
      "execution_count": null,
      "metadata": {
        "id": "NFH4VYN9Iie2"
      },
      "outputs": [],
      "source": [
        "\n",
        "#write your model here\n",
        "# model = Sequential()\n",
        "# model.add(Conv3D(32, kernel_size=3, activation='relu', input_shape=Input_shape))\n",
        "# model.add(MaxPooling3D(pool_size=2))\n",
        "\n",
        "# model.add(Conv3D(64, kernel_size=3, activation='relu'))\n",
        "# model.add(MaxPooling3D(pool_size=2))\n",
        "\n",
        "# model.add(Flatten())\n",
        "# model.add(Dense(256, activation='relu'))\n",
        "# model.add(Dense(5, activation='softmax'))"
      ]
    },
    {
      "cell_type": "markdown",
      "metadata": {
        "id": "gF1WvBNhIie3"
      },
      "source": [
        "#### Conv3D(Experiment-3)"
      ]
    },
    {
      "cell_type": "code",
      "execution_count": null,
      "metadata": {
        "id": "tQRuJ4ZLIie4"
      },
      "outputs": [],
      "source": [
        "# model = Sequential()\n",
        "\n",
        "# model.add(Conv3D(32, kernel_size=3, activation='relu', input_shape=Input_shape))\n",
        "# model.add(Conv3D(64, kernel_size=3, activation='relu'))\n",
        "# model.add(MaxPooling3D(pool_size=(2, 2, 2)))\n",
        "# model.add(BatchNormalization())\n",
        "# model.add(Dropout(0.2))\n",
        "\n",
        "# model.add(Conv3D(128, kernel_size=3, activation='relu'))\n",
        "# model.add(MaxPooling3D(pool_size=(1, 2, 2)))\n",
        "# model.add(BatchNormalization())\n",
        "# model.add(Dropout(0.2))\n",
        "\n",
        "# model.add(Conv3D(256, kernel_size=(1, 3, 3), activation='relu'))\n",
        "# model.add(MaxPooling3D(pool_size=(1, 2, 2)))\n",
        "# model.add(BatchNormalization())\n",
        "# model.add(Dropout(0.2))\n",
        "\n",
        "# model.add(Flatten())\n",
        "# model.add(Dense(512, activation='relu'))\n",
        "# model.add(BatchNormalization())\n",
        "# model.add(Dense(5, activation='softmax'))\n"
      ]
    },
    {
      "cell_type": "markdown",
      "metadata": {
        "id": "3qQK3SsuIie5"
      },
      "source": [
        "#### Conv3D with additional Layers(Experiment-4)"
      ]
    },
    {
      "cell_type": "code",
      "execution_count": null,
      "metadata": {
        "id": "7SstWugmIie6"
      },
      "outputs": [],
      "source": [
        "# #write your model here\n",
        "# Input_shape = (len(seq_idx), dim_x, dim_y, 3)\n",
        "# model = Sequential()\n",
        "# model.add(Conv3D(32, (3,3,3), padding='same',input_shape=Input_shape))\n",
        "# #model.add(Conv3D(32, kernel_size=(3, 3, 3), activation='relu', kernel_initializer='he_uniform', input_shape=sample_shape))\n",
        "# model.add(Activation('relu'))\n",
        "# model.add(BatchNormalization())\n",
        "# model.add(Conv3D(32, (3, 3,3)))\n",
        "# model.add(Activation('relu'))\n",
        "# model.add(BatchNormalization())\n",
        "# model.add(MaxPooling3D(pool_size=(2, 2,2)))\n",
        "# model.add(Dropout(0.5))\n",
        "\n",
        "# model.add(Conv3D(64, (3, 3,3), padding='same'))\n",
        "# model.add(Activation('relu'))\n",
        "# model.add(BatchNormalization())\n",
        "# model.add(Conv3D(64, (3, 3,3)))\n",
        "# model.add(Activation('relu'))\n",
        "# model.add(BatchNormalization())\n",
        "# model.add(MaxPooling3D(pool_size=(2, 2,2)))\n",
        "# model.add(Dropout(0.5))\n",
        "# model.add(Flatten())\n",
        "# model.add(Dense(512))\n",
        "# model.add(Activation('relu'))\n",
        "# model.add(Dropout(0.5))\n",
        "# model.add(Dense(5))\n",
        "# model.add(Activation('softmax'))\n",
        "# model.summary()"
      ]
    },
    {
      "cell_type": "markdown",
      "metadata": {
        "id": "8AcDIkgEIie9"
      },
      "source": [
        "#### Conv3D"
      ]
    },
    {
      "cell_type": "code",
      "execution_count": null,
      "metadata": {
        "id": "LYnyf9FeIie-"
      },
      "outputs": [],
      "source": [
        "# model = Sequential()\n",
        "\n",
        "# model.add(Conv3D(32, kernel_size=3, activation='relu', input_shape=Input_shape))\n",
        "# model.add(Conv3D(64, kernel_size=3, activation='relu'))\n",
        "# model.add(MaxPooling3D(pool_size=(2, 2, 2)))\n",
        "# model.add(BatchNormalization())\n",
        "# model.add(Dropout(0.2))\n",
        "\n",
        "# model.add(Conv3D(128, kernel_size=3, activation='relu'))\n",
        "# model.add(MaxPooling3D(pool_size=(1, 2, 2)))\n",
        "# model.add(BatchNormalization())\n",
        "# model.add(Dropout(0.2))\n",
        "\n",
        "# model.add(Conv3D(256, kernel_size=(1, 3, 3), activation='relu'))\n",
        "# model.add(MaxPooling3D(pool_size=(1, 2, 2)))\n",
        "# model.add(BatchNormalization())\n",
        "# model.add(Dropout(0.2))\n",
        "\n",
        "# model.add(Flatten())\n",
        "# model.add(Dense(512, activation='relu'))\n",
        "# model.add(BatchNormalization())\n",
        "# model.add(Dense(5, activation='softmax'))\n"
      ]
    },
    {
      "cell_type": "markdown",
      "source": [
        "#### Conv2D + Dense"
      ],
      "metadata": {
        "id": "g1zSLKqDyh0C"
      }
    },
    {
      "cell_type": "code",
      "source": [
        "# model = Sequential()\n",
        "# model.add(TimeDistributed(\n",
        "#     Conv2D(32, (3,3), activation='relu'), input_shape=input_shape)\n",
        "# )\n",
        "# model.add(TimeDistributed(\n",
        "#     MaxPooling2D((2,2)))\n",
        "# )\n",
        "# model.add(BatchNormalization())\n",
        "\n",
        "# model.add(TimeDistributed(\n",
        "#     Conv2D(64, (3,3), activation='relu'))\n",
        "# )\n",
        "# model.add(TimeDistributed(\n",
        "#     MaxPooling2D((2,2)))\n",
        "# )\n",
        "# model.add(BatchNormalization())\n",
        "\n",
        "# model.add(TimeDistributed(\n",
        "#     Conv2D(128, (3,3), activation='relu'))\n",
        "# )\n",
        "# model.add(TimeDistributed(\n",
        "#     MaxPooling2D((2,2)))\n",
        "# )\n",
        "# model.add(BatchNormalization())\n",
        "\n",
        "# model.add(GlobalAveragePooling3D())\n",
        "# model.add(Dense(256, activation='relu'))\n",
        "# model.add(BatchNormalization())\n",
        "# model.add(Dense(5, activation='softmax'))"
      ],
      "metadata": {
        "id": "BEl1qwcvyhfz"
      },
      "execution_count": null,
      "outputs": []
    },
    {
      "cell_type": "markdown",
      "metadata": {
        "id": "_7RLfFPgIie7"
      },
      "source": [
        "#### Time Distributed + ConvLSTM 2D\n"
      ]
    },
    {
      "cell_type": "code",
      "execution_count": null,
      "metadata": {
        "id": "ao9qsGn6Iie7",
        "outputId": "8a15a935-e47e-424d-b9a0-77a847c641a5"
      },
      "outputs": [
        {
          "name": "stderr",
          "output_type": "stream",
          "text": [
            "2023-02-13 16:19:57.313450: W tensorflow/core/common_runtime/gpu/gpu_bfc_allocator.cc:39] Overriding allow_growth setting because the TF_FORCE_GPU_ALLOW_GROWTH environment variable is set. Original config value was 0.\n",
            "2023-02-13 16:19:57.313516: I tensorflow/core/common_runtime/gpu/gpu_device.cc:1525] Created device /job:localhost/replica:0/task:0/device:GPU:0 with 14802 MB memory:  -> device: 0, name: Quadro RTX 5000, pci bus id: 0000:1e:00.0, compute capability: 7.5\n"
          ]
        }
      ],
      "source": [
        "model = Sequential()\n",
        "\n",
        "model.add(TimeDistributed(Conv2D(16, (3, 3) , padding='same', activation='relu'),\n",
        "                          input_shape=Input_shape))\n",
        "model.add(TimeDistributed(BatchNormalization()))\n",
        "model.add(TimeDistributed(MaxPooling2D((2, 2))))\n",
        "\n",
        "model.add(TimeDistributed(Conv2D(32, (3, 3) , padding='same', activation='relu')))\n",
        "model.add(TimeDistributed(BatchNormalization()))\n",
        "model.add(TimeDistributed(MaxPooling2D((2, 2))))\n",
        "\n",
        "model.add(TimeDistributed(Conv2D(64, (3, 3) , padding='same', activation='relu')))\n",
        "model.add(TimeDistributed(BatchNormalization()))\n",
        "model.add(TimeDistributed(MaxPooling2D((2, 2))))\n",
        "\n",
        "model.add(TimeDistributed(Conv2D(128, (3, 3) , padding='same', activation='relu')))\n",
        "model.add(TimeDistributed(BatchNormalization()))\n",
        "model.add(TimeDistributed(MaxPooling2D((2, 2))))\n",
        "\n",
        "model.add(TimeDistributed(Conv2D(256, (3, 3) , padding='same', activation='relu')))\n",
        "model.add(TimeDistributed(BatchNormalization()))\n",
        "model.add(TimeDistributed(MaxPooling2D((2, 2))))\n",
        "\n",
        "model.add(TimeDistributed(Conv2D(512, (3, 3) , padding='same', activation='relu')))\n",
        "model.add(TimeDistributed(BatchNormalization()))\n",
        "model.add(TimeDistributed(MaxPooling2D((2, 2))))\n",
        "\n",
        "model.add(TimeDistributed(Flatten()))\n",
        "\n",
        "\n",
        "model.add(LSTM(64))\n",
        "model.add(Dropout(0.5))\n",
        "\n",
        "model.add(Dense(64,activation='relu'))\n",
        "model.add(Dropout(0.5))\n",
        "\n",
        "model.add(Dense(5, activation='softmax'))"
      ]
    },
    {
      "cell_type": "markdown",
      "metadata": {
        "id": "uurP6SHrIie_"
      },
      "source": [
        "Now that you have written the model, the next step is to `compile` the model. When you print the `summary` of the model, you'll see the total number of parameters you have to train."
      ]
    },
    {
      "cell_type": "code",
      "execution_count": null,
      "metadata": {
        "scrolled": true,
        "id": "2v_FEmibIie_",
        "outputId": "ccc9ce69-4c3b-4353-c89a-9e3aa40a5fc8"
      },
      "outputs": [
        {
          "name": "stdout",
          "output_type": "stream",
          "text": [
            "Model: \"sequential\"\n",
            "_________________________________________________________________\n",
            " Layer (type)                Output Shape              Param #   \n",
            "=================================================================\n",
            " time_distributed (TimeDistr  (None, 10, 100, 100, 16)  448      \n",
            " ibuted)                                                         \n",
            "                                                                 \n",
            " time_distributed_1 (TimeDis  (None, 10, 100, 100, 16)  64       \n",
            " tributed)                                                       \n",
            "                                                                 \n",
            " time_distributed_2 (TimeDis  (None, 10, 50, 50, 16)   0         \n",
            " tributed)                                                       \n",
            "                                                                 \n",
            " time_distributed_3 (TimeDis  (None, 10, 50, 50, 32)   4640      \n",
            " tributed)                                                       \n",
            "                                                                 \n",
            " time_distributed_4 (TimeDis  (None, 10, 50, 50, 32)   128       \n",
            " tributed)                                                       \n",
            "                                                                 \n",
            " time_distributed_5 (TimeDis  (None, 10, 25, 25, 32)   0         \n",
            " tributed)                                                       \n",
            "                                                                 \n",
            " time_distributed_6 (TimeDis  (None, 10, 25, 25, 64)   18496     \n",
            " tributed)                                                       \n",
            "                                                                 \n",
            " time_distributed_7 (TimeDis  (None, 10, 25, 25, 64)   256       \n",
            " tributed)                                                       \n",
            "                                                                 \n",
            " time_distributed_8 (TimeDis  (None, 10, 12, 12, 64)   0         \n",
            " tributed)                                                       \n",
            "                                                                 \n",
            " time_distributed_9 (TimeDis  (None, 10, 12, 12, 128)  73856     \n",
            " tributed)                                                       \n",
            "                                                                 \n",
            " time_distributed_10 (TimeDi  (None, 10, 12, 12, 128)  512       \n",
            " stributed)                                                      \n",
            "                                                                 \n",
            " time_distributed_11 (TimeDi  (None, 10, 6, 6, 128)    0         \n",
            " stributed)                                                      \n",
            "                                                                 \n",
            " time_distributed_12 (TimeDi  (None, 10, 6, 6, 256)    295168    \n",
            " stributed)                                                      \n",
            "                                                                 \n",
            " time_distributed_13 (TimeDi  (None, 10, 6, 6, 256)    1024      \n",
            " stributed)                                                      \n",
            "                                                                 \n",
            " time_distributed_14 (TimeDi  (None, 10, 3, 3, 256)    0         \n",
            " stributed)                                                      \n",
            "                                                                 \n",
            " time_distributed_15 (TimeDi  (None, 10, 3, 3, 512)    1180160   \n",
            " stributed)                                                      \n",
            "                                                                 \n",
            " time_distributed_16 (TimeDi  (None, 10, 3, 3, 512)    2048      \n",
            " stributed)                                                      \n",
            "                                                                 \n",
            " time_distributed_17 (TimeDi  (None, 10, 1, 1, 512)    0         \n",
            " stributed)                                                      \n",
            "                                                                 \n",
            " time_distributed_18 (TimeDi  (None, 10, 512)          0         \n",
            " stributed)                                                      \n",
            "                                                                 \n",
            " lstm (LSTM)                 (None, 64)                147712    \n",
            "                                                                 \n",
            " dropout (Dropout)           (None, 64)                0         \n",
            "                                                                 \n",
            " dense (Dense)               (None, 64)                4160      \n",
            "                                                                 \n",
            " dropout_1 (Dropout)         (None, 64)                0         \n",
            "                                                                 \n",
            " dense_1 (Dense)             (None, 5)                 325       \n",
            "                                                                 \n",
            "=================================================================\n",
            "Total params: 1,728,997\n",
            "Trainable params: 1,726,981\n",
            "Non-trainable params: 2,016\n",
            "_________________________________________________________________\n",
            "None\n"
          ]
        }
      ],
      "source": [
        "optimiser = keras.optimizers.Adam()#write your optimizer\n",
        "model.compile(optimizer=optimiser, loss='categorical_crossentropy', metrics=['categorical_accuracy'])\n",
        "print (model.summary())"
      ]
    },
    {
      "cell_type": "markdown",
      "metadata": {
        "id": "66JcxjmDIifB"
      },
      "source": [
        "Let us create the `train_generator` and the `val_generator` which will be used in `.fit_generator`."
      ]
    },
    {
      "cell_type": "code",
      "execution_count": null,
      "metadata": {
        "id": "ClT3MK4BIifC"
      },
      "outputs": [],
      "source": [
        "train_generator = generator(train_path, train_doc, batch_size)\n",
        "val_generator = generator(val_path, val_doc, batch_size)"
      ]
    },
    {
      "cell_type": "code",
      "execution_count": null,
      "metadata": {
        "id": "_ugTwDHOIifD"
      },
      "outputs": [],
      "source": [
        "model_name = 'model_init' + '_' + str(curr_dt_time).replace(' ','').replace(':','_') + '/'\n",
        "    \n",
        "if not os.path.exists(model_name):\n",
        "    os.mkdir(model_name)\n",
        "        \n",
        "filepath = model_name + 'model-{epoch:05d}-{loss:.5f}-{categorical_accuracy:.5f}-{val_loss:.5f}-{val_categorical_accuracy:.5f}.h5'\n",
        "\n",
        "checkpoint = ModelCheckpoint(filepath, monitor='val_loss', verbose=1, save_best_only=False, save_weights_only=False, mode='auto')\n",
        "\n",
        "LR  = ReduceLROnPlateau(monitor='val_loss', factor=0.2, patience=5, min_lr=0.001, verbose=1) # write the REducelronplateau code here\n",
        "callbacks_list = [checkpoint, LR]"
      ]
    },
    {
      "cell_type": "markdown",
      "metadata": {
        "id": "v40rbIaFIifE"
      },
      "source": [
        "The `steps_per_epoch` and `validation_steps` are used by `fit` method to decide the number of next() calls it need to make."
      ]
    },
    {
      "cell_type": "code",
      "execution_count": null,
      "metadata": {
        "id": "ax---M37IifF"
      },
      "outputs": [],
      "source": [
        "if (num_train_sequences%batch_size) == 0:\n",
        "    steps_per_epoch = int(num_train_sequences/batch_size)\n",
        "else:\n",
        "    steps_per_epoch = (num_train_sequences//batch_size) + 1\n",
        "\n",
        "if (num_val_sequences%batch_size) == 0:\n",
        "    validation_steps = int(num_val_sequences/batch_size)\n",
        "else:\n",
        "    validation_steps = (num_val_sequences//batch_size) + 1"
      ]
    },
    {
      "cell_type": "markdown",
      "metadata": {
        "id": "3p-sfckNIifG"
      },
      "source": [
        "Let us now fit the model. This will start training the model and with the help of the checkpoints, you'll be able to save the model at the end of each epoch."
      ]
    },
    {
      "cell_type": "code",
      "execution_count": null,
      "metadata": {
        "id": "ag51s3GWIifG",
        "outputId": "fb933333-0ea7-4e41-c23a-9816d8073d84"
      },
      "outputs": [
        {
          "name": "stdout",
          "output_type": "stream",
          "text": [
            "Epoch 1/25\n"
          ]
        },
        {
          "name": "stderr",
          "output_type": "stream",
          "text": [
            "2023-02-13 16:20:02.031637: I tensorflow/stream_executor/cuda/cuda_dnn.cc:377] Loaded cuDNN version 8302\n"
          ]
        },
        {
          "name": "stdout",
          "output_type": "stream",
          "text": [
            "34/34 [==============================] - ETA: 0s - loss: 1.5826 - categorical_accuracy: 0.2647\n",
            "Epoch 00001: saving model to model_init_2023-02-1316_19_56.588622/model-00001-1.58256-0.26471-1.73722-0.21000.h5\n",
            "34/34 [==============================] - 59s 2s/step - loss: 1.5826 - categorical_accuracy: 0.2647 - val_loss: 1.7372 - val_categorical_accuracy: 0.2100 - lr: 0.0010\n",
            "Epoch 2/25\n",
            "34/34 [==============================] - ETA: 0s - loss: 1.4194 - categorical_accuracy: 0.3647\n",
            "Epoch 00002: saving model to model_init_2023-02-1316_19_56.588622/model-00002-1.41936-0.36471-1.80112-0.19000.h5\n",
            "34/34 [==============================] - 50s 2s/step - loss: 1.4194 - categorical_accuracy: 0.3647 - val_loss: 1.8011 - val_categorical_accuracy: 0.1900 - lr: 0.0010\n",
            "Epoch 3/25\n",
            "34/34 [==============================] - ETA: 0s - loss: 1.3074 - categorical_accuracy: 0.4103\n",
            "Epoch 00003: saving model to model_init_2023-02-1316_19_56.588622/model-00003-1.30742-0.41029-1.78928-0.25000.h5\n",
            "34/34 [==============================] - 50s 2s/step - loss: 1.3074 - categorical_accuracy: 0.4103 - val_loss: 1.7893 - val_categorical_accuracy: 0.2500 - lr: 0.0010\n",
            "Epoch 4/25\n",
            "34/34 [==============================] - ETA: 0s - loss: 1.2106 - categorical_accuracy: 0.4691\n",
            "Epoch 00004: saving model to model_init_2023-02-1316_19_56.588622/model-00004-1.21063-0.46912-1.70460-0.23000.h5\n",
            "34/34 [==============================] - 50s 2s/step - loss: 1.2106 - categorical_accuracy: 0.4691 - val_loss: 1.7046 - val_categorical_accuracy: 0.2300 - lr: 0.0010\n",
            "Epoch 5/25\n",
            "34/34 [==============================] - ETA: 0s - loss: 1.1630 - categorical_accuracy: 0.4721\n",
            "Epoch 00005: saving model to model_init_2023-02-1316_19_56.588622/model-00005-1.16304-0.47206-1.65692-0.29000.h5\n",
            "34/34 [==============================] - 51s 2s/step - loss: 1.1630 - categorical_accuracy: 0.4721 - val_loss: 1.6569 - val_categorical_accuracy: 0.2900 - lr: 0.0010\n",
            "Epoch 6/25\n",
            "34/34 [==============================] - ETA: 0s - loss: 1.2019 - categorical_accuracy: 0.4838\n",
            "Epoch 00006: saving model to model_init_2023-02-1316_19_56.588622/model-00006-1.20193-0.48382-1.94242-0.21000.h5\n",
            "34/34 [==============================] - 51s 2s/step - loss: 1.2019 - categorical_accuracy: 0.4838 - val_loss: 1.9424 - val_categorical_accuracy: 0.2100 - lr: 0.0010\n",
            "Epoch 7/25\n",
            "34/34 [==============================] - ETA: 0s - loss: 1.1444 - categorical_accuracy: 0.5000\n",
            "Epoch 00007: saving model to model_init_2023-02-1316_19_56.588622/model-00007-1.14442-0.50000-1.82601-0.26000.h5\n",
            "34/34 [==============================] - 51s 2s/step - loss: 1.1444 - categorical_accuracy: 0.5000 - val_loss: 1.8260 - val_categorical_accuracy: 0.2600 - lr: 0.0010\n",
            "Epoch 8/25\n",
            "34/34 [==============================] - ETA: 0s - loss: 1.0704 - categorical_accuracy: 0.5441\n",
            "Epoch 00008: saving model to model_init_2023-02-1316_19_56.588622/model-00008-1.07042-0.54412-2.35814-0.15000.h5\n",
            "34/34 [==============================] - 51s 2s/step - loss: 1.0704 - categorical_accuracy: 0.5441 - val_loss: 2.3581 - val_categorical_accuracy: 0.1500 - lr: 0.0010\n",
            "Epoch 9/25\n",
            "34/34 [==============================] - ETA: 0s - loss: 0.9633 - categorical_accuracy: 0.5926\n",
            "Epoch 00009: saving model to model_init_2023-02-1316_19_56.588622/model-00009-0.96332-0.59265-1.59355-0.41000.h5\n",
            "34/34 [==============================] - 50s 2s/step - loss: 0.9633 - categorical_accuracy: 0.5926 - val_loss: 1.5936 - val_categorical_accuracy: 0.4100 - lr: 0.0010\n",
            "Epoch 10/25\n",
            "34/34 [==============================] - ETA: 0s - loss: 0.8657 - categorical_accuracy: 0.6265\n",
            "Epoch 00010: saving model to model_init_2023-02-1316_19_56.588622/model-00010-0.86568-0.62647-2.15236-0.19000.h5\n",
            "34/34 [==============================] - 51s 2s/step - loss: 0.8657 - categorical_accuracy: 0.6265 - val_loss: 2.1524 - val_categorical_accuracy: 0.1900 - lr: 0.0010\n",
            "Epoch 11/25\n",
            "34/34 [==============================] - ETA: 0s - loss: 0.8660 - categorical_accuracy: 0.6412\n",
            "Epoch 00011: saving model to model_init_2023-02-1316_19_56.588622/model-00011-0.86605-0.64118-2.21071-0.32000.h5\n",
            "34/34 [==============================] - 51s 2s/step - loss: 0.8660 - categorical_accuracy: 0.6412 - val_loss: 2.2107 - val_categorical_accuracy: 0.3200 - lr: 0.0010\n",
            "Epoch 12/25\n",
            "34/34 [==============================] - ETA: 0s - loss: 0.7478 - categorical_accuracy: 0.6941\n",
            "Epoch 00012: saving model to model_init_2023-02-1316_19_56.588622/model-00012-0.74783-0.69412-2.46274-0.37000.h5\n",
            "34/34 [==============================] - 51s 2s/step - loss: 0.7478 - categorical_accuracy: 0.6941 - val_loss: 2.4627 - val_categorical_accuracy: 0.3700 - lr: 0.0010\n",
            "Epoch 13/25\n",
            "34/34 [==============================] - ETA: 0s - loss: 0.7556 - categorical_accuracy: 0.7074\n",
            "Epoch 00013: saving model to model_init_2023-02-1316_19_56.588622/model-00013-0.75556-0.70735-2.31568-0.26000.h5\n",
            "34/34 [==============================] - 50s 2s/step - loss: 0.7556 - categorical_accuracy: 0.7074 - val_loss: 2.3157 - val_categorical_accuracy: 0.2600 - lr: 0.0010\n",
            "Epoch 14/25\n",
            "34/34 [==============================] - ETA: 0s - loss: 0.6916 - categorical_accuracy: 0.7279\n",
            "Epoch 00014: saving model to model_init_2023-02-1316_19_56.588622/model-00014-0.69163-0.72794-1.60879-0.47000.h5\n",
            "34/34 [==============================] - 50s 2s/step - loss: 0.6916 - categorical_accuracy: 0.7279 - val_loss: 1.6088 - val_categorical_accuracy: 0.4700 - lr: 0.0010\n",
            "Epoch 15/25\n",
            "34/34 [==============================] - ETA: 0s - loss: 0.6542 - categorical_accuracy: 0.7574\n",
            "Epoch 00015: saving model to model_init_2023-02-1316_19_56.588622/model-00015-0.65421-0.75735-2.01489-0.35000.h5\n",
            "34/34 [==============================] - 50s 2s/step - loss: 0.6542 - categorical_accuracy: 0.7574 - val_loss: 2.0149 - val_categorical_accuracy: 0.3500 - lr: 0.0010\n",
            "Epoch 16/25\n",
            "34/34 [==============================] - ETA: 0s - loss: 0.5754 - categorical_accuracy: 0.7882\n",
            "Epoch 00016: saving model to model_init_2023-02-1316_19_56.588622/model-00016-0.57538-0.78824-1.06270-0.63000.h5\n",
            "34/34 [==============================] - 51s 2s/step - loss: 0.5754 - categorical_accuracy: 0.7882 - val_loss: 1.0627 - val_categorical_accuracy: 0.6300 - lr: 0.0010\n",
            "Epoch 17/25\n",
            "34/34 [==============================] - ETA: 0s - loss: 0.5401 - categorical_accuracy: 0.8059\n",
            "Epoch 00017: saving model to model_init_2023-02-1316_19_56.588622/model-00017-0.54013-0.80588-1.88756-0.49000.h5\n",
            "34/34 [==============================] - 51s 2s/step - loss: 0.5401 - categorical_accuracy: 0.8059 - val_loss: 1.8876 - val_categorical_accuracy: 0.4900 - lr: 0.0010\n",
            "Epoch 18/25\n",
            "34/34 [==============================] - ETA: 0s - loss: 0.4620 - categorical_accuracy: 0.8206\n",
            "Epoch 00018: saving model to model_init_2023-02-1316_19_56.588622/model-00018-0.46202-0.82059-1.02371-0.64000.h5\n",
            "34/34 [==============================] - 50s 2s/step - loss: 0.4620 - categorical_accuracy: 0.8206 - val_loss: 1.0237 - val_categorical_accuracy: 0.6400 - lr: 0.0010\n",
            "Epoch 19/25\n",
            "34/34 [==============================] - ETA: 0s - loss: 0.3894 - categorical_accuracy: 0.8544\n",
            "Epoch 00019: saving model to model_init_2023-02-1316_19_56.588622/model-00019-0.38942-0.85441-0.79637-0.74000.h5\n",
            "34/34 [==============================] - 51s 2s/step - loss: 0.3894 - categorical_accuracy: 0.8544 - val_loss: 0.7964 - val_categorical_accuracy: 0.7400 - lr: 0.0010\n",
            "Epoch 20/25\n",
            "34/34 [==============================] - ETA: 0s - loss: 0.3690 - categorical_accuracy: 0.8588\n",
            "Epoch 00020: saving model to model_init_2023-02-1316_19_56.588622/model-00020-0.36897-0.85882-1.35661-0.63000.h5\n",
            "34/34 [==============================] - 51s 2s/step - loss: 0.3690 - categorical_accuracy: 0.8588 - val_loss: 1.3566 - val_categorical_accuracy: 0.6300 - lr: 0.0010\n",
            "Epoch 21/25\n",
            "34/34 [==============================] - ETA: 0s - loss: 0.3616 - categorical_accuracy: 0.8559\n",
            "Epoch 00021: saving model to model_init_2023-02-1316_19_56.588622/model-00021-0.36164-0.85588-0.69922-0.78000.h5\n",
            "34/34 [==============================] - 50s 2s/step - loss: 0.3616 - categorical_accuracy: 0.8559 - val_loss: 0.6992 - val_categorical_accuracy: 0.7800 - lr: 0.0010\n",
            "Epoch 22/25\n",
            "34/34 [==============================] - ETA: 0s - loss: 0.3780 - categorical_accuracy: 0.8647\n",
            "Epoch 00022: saving model to model_init_2023-02-1316_19_56.588622/model-00022-0.37796-0.86471-0.98908-0.69000.h5\n",
            "34/34 [==============================] - 49s 1s/step - loss: 0.3780 - categorical_accuracy: 0.8647 - val_loss: 0.9891 - val_categorical_accuracy: 0.6900 - lr: 0.0010\n",
            "Epoch 23/25\n",
            "34/34 [==============================] - ETA: 0s - loss: 0.4942 - categorical_accuracy: 0.8265\n",
            "Epoch 00023: saving model to model_init_2023-02-1316_19_56.588622/model-00023-0.49420-0.82647-0.65459-0.77000.h5\n",
            "34/34 [==============================] - 51s 2s/step - loss: 0.4942 - categorical_accuracy: 0.8265 - val_loss: 0.6546 - val_categorical_accuracy: 0.7700 - lr: 0.0010\n",
            "Epoch 24/25\n",
            "34/34 [==============================] - ETA: 0s - loss: 0.3467 - categorical_accuracy: 0.8868\n",
            "Epoch 00024: saving model to model_init_2023-02-1316_19_56.588622/model-00024-0.34667-0.88676-1.35624-0.66000.h5\n",
            "34/34 [==============================] - 50s 2s/step - loss: 0.3467 - categorical_accuracy: 0.8868 - val_loss: 1.3562 - val_categorical_accuracy: 0.6600 - lr: 0.0010\n",
            "Epoch 25/25\n",
            "34/34 [==============================] - ETA: 0s - loss: 0.4115 - categorical_accuracy: 0.8515\n",
            "Epoch 00025: saving model to model_init_2023-02-1316_19_56.588622/model-00025-0.41151-0.85147-0.54861-0.81000.h5\n",
            "34/34 [==============================] - 51s 2s/step - loss: 0.4115 - categorical_accuracy: 0.8515 - val_loss: 0.5486 - val_categorical_accuracy: 0.8100 - lr: 0.0010\n"
          ]
        }
      ],
      "source": [
        "model_print=model.fit(train_generator, steps_per_epoch=steps_per_epoch, epochs=num_epochs, verbose=1, \n",
        "                    callbacks=callbacks_list, validation_data=val_generator, \n",
        "                    validation_steps=validation_steps, class_weight=None, workers=1, initial_epoch=0)"
      ]
    },
    {
      "cell_type": "code",
      "execution_count": null,
      "metadata": {
        "id": "1TrzKR4dIifH",
        "outputId": "f33a4808-8ea9-4c8d-b970-3ff56de9db1e"
      },
      "outputs": [
        {
          "data": {
            "text/plain": [
              "<matplotlib.legend.Legend at 0x7f995981f1c0>"
            ]
          },
          "execution_count": 14,
          "metadata": {},
          "output_type": "execute_result"
        },
        {
          "data": {
            "image/png": "[encoded data removed]",
            "text/plain": [
              "<Figure size 1440x432 with 2 Axes>"
            ]
          },
          "metadata": {
            "needs_background": "light"
          },
          "output_type": "display_data"
        }
      ],
      "source": [
        "plt.figure(figsize=(20,6))\n",
        "ax1 = plt.subplot(121)\n",
        "ax1 = plt.plot(model_print.history['loss'])\n",
        "ax1 = plt.plot(model_print.history['val_loss'])\n",
        "plt.title('model loss')\n",
        "plt.ylabel('loss')\n",
        "plt.xlabel('epoch')\n",
        "plt.legend(['train', 'validation'], loc='lower left')\n",
        "ax2 = plt.subplot(122)\n",
        "ax2 = plt.plot(model_print.history['categorical_accuracy'])\n",
        "ax2 = plt.plot(model_print.history['val_categorical_accuracy'])\n",
        "plt.title('model accuracy')\n",
        "plt.ylabel('categorical_accuracy')\n",
        "plt.xlabel('epoch')\n",
        "plt.legend(['train', 'validation'], loc='lower left')"
      ]
    }
  ],
  "metadata": {
    "kernelspec": {
      "display_name": "Python 3 (ipykernel)",
      "language": "python",
      "name": "python3"
    },
    "language_info": {
      "codemirror_mode": {
        "name": "ipython",
        "version": 3
      },
      "file_extension": ".py",
      "mimetype": "text/x-python",
      "name": "python",
      "nbconvert_exporter": "python",
      "pygments_lexer": "ipython3",
      "version": "3.8.10"
    },
    "colab": {
      "provenance": [],
      "include_colab_link": true
    }
  },
  "nbformat": 4,
  "nbformat_minor": 0
}